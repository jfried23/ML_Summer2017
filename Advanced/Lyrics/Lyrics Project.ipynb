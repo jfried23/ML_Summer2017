{
 "cells": [
  {
   "cell_type": "code",
   "execution_count": 1,
   "metadata": {
    "collapsed": true
   },
   "outputs": [],
   "source": [
    "import pandas as pd\n",
    "import sklearn\n",
    "import matplotlib.pyplot as plt\n",
    "\n",
    "%matplotlib inline"
   ]
  },
  {
   "cell_type": "markdown",
   "metadata": {},
   "source": [
    "### Lyrics analysis project\n",
    "We have a dataset containing 380,000+ song lyrics, from different artists, years and genre. First lets get to know the data. \n",
    "\n",
    "My first goal in any project is to get to 'know' the data. Lets read it in and take a look at the dataframe."
   ]
  },
  {
   "cell_type": "markdown",
   "metadata": {},
   "source": [
    "##### First we will read in our dataframe using pandas built in csv reader \n"
   ]
  },
  {
   "cell_type": "code",
   "execution_count": 13,
   "metadata": {},
   "outputs": [
    {
     "data": {
      "text/html": [
       "<div>\n",
       "<style>\n",
       "    .dataframe thead tr:only-child th {\n",
       "        text-align: right;\n",
       "    }\n",
       "\n",
       "    .dataframe thead th {\n",
       "        text-align: left;\n",
       "    }\n",
       "\n",
       "    .dataframe tbody tr th {\n",
       "        vertical-align: top;\n",
       "    }\n",
       "</style>\n",
       "<table border=\"1\" class=\"dataframe\">\n",
       "  <thead>\n",
       "    <tr style=\"text-align: right;\">\n",
       "      <th></th>\n",
       "      <th>song</th>\n",
       "      <th>year</th>\n",
       "      <th>artist</th>\n",
       "      <th>genre</th>\n",
       "      <th>lyrics</th>\n",
       "    </tr>\n",
       "  </thead>\n",
       "  <tbody>\n",
       "    <tr>\n",
       "      <th>0</th>\n",
       "      <td>ego-remix</td>\n",
       "      <td>2009</td>\n",
       "      <td>beyonce-knowles</td>\n",
       "      <td>Pop</td>\n",
       "      <td>Oh baby, how you doing?\\nYou know I'm gonna cu...</td>\n",
       "    </tr>\n",
       "    <tr>\n",
       "      <th>1</th>\n",
       "      <td>then-tell-me</td>\n",
       "      <td>2009</td>\n",
       "      <td>beyonce-knowles</td>\n",
       "      <td>Pop</td>\n",
       "      <td>playin' everything so easy,\\nit's like you see...</td>\n",
       "    </tr>\n",
       "    <tr>\n",
       "      <th>2</th>\n",
       "      <td>honesty</td>\n",
       "      <td>2009</td>\n",
       "      <td>beyonce-knowles</td>\n",
       "      <td>Pop</td>\n",
       "      <td>If you search\\nFor tenderness\\nIt isn't hard t...</td>\n",
       "    </tr>\n",
       "    <tr>\n",
       "      <th>3</th>\n",
       "      <td>you-are-my-rock</td>\n",
       "      <td>2009</td>\n",
       "      <td>beyonce-knowles</td>\n",
       "      <td>Pop</td>\n",
       "      <td>Oh oh oh I, oh oh oh I\\n[Verse 1:]\\nIf I wrote...</td>\n",
       "    </tr>\n",
       "    <tr>\n",
       "      <th>4</th>\n",
       "      <td>black-culture</td>\n",
       "      <td>2009</td>\n",
       "      <td>beyonce-knowles</td>\n",
       "      <td>Pop</td>\n",
       "      <td>Party the people, the people the party it's po...</td>\n",
       "    </tr>\n",
       "  </tbody>\n",
       "</table>\n",
       "</div>"
      ],
      "text/plain": [
       "              song  year           artist genre  \\\n",
       "0        ego-remix  2009  beyonce-knowles   Pop   \n",
       "1     then-tell-me  2009  beyonce-knowles   Pop   \n",
       "2          honesty  2009  beyonce-knowles   Pop   \n",
       "3  you-are-my-rock  2009  beyonce-knowles   Pop   \n",
       "4    black-culture  2009  beyonce-knowles   Pop   \n",
       "\n",
       "                                              lyrics  \n",
       "0  Oh baby, how you doing?\\nYou know I'm gonna cu...  \n",
       "1  playin' everything so easy,\\nit's like you see...  \n",
       "2  If you search\\nFor tenderness\\nIt isn't hard t...  \n",
       "3  Oh oh oh I, oh oh oh I\\n[Verse 1:]\\nIf I wrote...  \n",
       "4  Party the people, the people the party it's po...  "
      ]
     },
     "execution_count": 13,
     "metadata": {},
     "output_type": "execute_result"
    }
   ],
   "source": [
    "df = pd.read_csv('../data/lyrics.csv')\\\n",
    "       .drop('index',axis=1)\n",
    "\n",
    "df.head()"
   ]
  },
  {
   "cell_type": "markdown",
   "metadata": {},
   "source": [
    "###### Some descriptive plots"
   ]
  },
  {
   "cell_type": "code",
   "execution_count": 27,
   "metadata": {},
   "outputs": [
    {
     "data": {
      "image/png": "[encoded data removed]",
      "text/plain": [
       "<matplotlib.figure.Figure at 0x11030dcf8>"
      ]
     },
     "metadata": {},
     "output_type": "display_data"
    }
   ],
   "source": [
    "df.groupby('genre')\\\n",
    "  .agg({'genre':len})\\\n",
    "  .sort_values('genre')\\\n",
    "  .plot(kind='bar', rot=45)\n",
    "plt.title(\"Number of songs in each genre\")\n",
    "plt.ylabel('Number of Songs')\n",
    "plt.xlabel('Genre')\n",
    "plt.show()"
   ]
  },
  {
   "cell_type": "markdown",
   "metadata": {},
   "source": [
    "We have a class imbalance! If genre is going to be a dependent variable don't forget to use stratified sampling!"
   ]
  },
  {
   "cell_type": "code",
   "execution_count": 12,
   "metadata": {},
   "outputs": [
    {
     "name": "stdout",
     "output_type": "stream",
     "text": [
      "'song' column has 250473 unique entries and 2 nulls.\n",
      "'year' column has 52 unique entries and 0 nulls.\n",
      "'artist' column has 18231 unique entries and 0 nulls.\n",
      "'genre' column has 12 unique entries and 0 nulls.\n",
      "'lyrics' column has 244874 unique entries and 95680 nulls.\n"
     ]
    }
   ],
   "source": [
    "for col in df.columns:\n",
    "    unq  = df[col].unique().shape[0]\n",
    "    null = df[col].isnull().sum()\n",
    "    print('\\'%s\\' column has %i unique entries and %i nulls.'%(col,unq,null))"
   ]
  },
  {
   "cell_type": "markdown",
   "metadata": {},
   "source": [
    "###### Lets take a look at some lyrical data!"
   ]
  },
  {
   "cell_type": "code",
   "execution_count": 77,
   "metadata": {
    "scrolled": true
   },
   "outputs": [
    {
     "name": "stdout",
     "output_type": "stream",
     "text": [
      "Beyonc - Intro:\n",
      "Beyonce\n",
      "IAM\n",
      "Welcome\n",
      "Welcome\n",
      "Hey\n",
      "Ohhhh\n",
      "Beyonc - Chorus:\n",
      "Welcome to a place\n",
      "Where people lie to your face\n",
      "Just to get it done.\n",
      "Welcome to the human race\n",
      "Where if you ain't got money, then you'll pay in pain\n",
      "Welcome to this world of ours\n",
      "And if you had the chance would you come back again ?\n",
      "Cause now you're here there ain't no turning back,\n",
      "You got tears in your eyes\n",
      "And the monkey on your back (?)*\n",
      "Akhenaton - Verse 1:\n",
      "Bienvenue l o l'fort tue le faible, o la faim tue de fait\n",
      "O la socit t'congratule, et t'accepte une fois la fortune faite,\n",
      "O les dettes cumulent, o l'crdit accule, des tas d'foyers,\n",
      "O les hommes en perte d'idaux, jurent qu'par les putes dvoyes en vido,\n",
      "Chaque soir c'est la fte, les salons cossus attirent les fesses,\n",
      "Sur les gros cads, qui arrosent les guridons de pure cocane,\n",
      "Ici, les gosses rvent d't'Pirs, beaucoup partent et peu qui restent,\n",
      "Nombreux sont ceux qui ds 13 ans connaissent leur premire ivresse,\n",
      "Bienvenue l o l'air pollu, par les pots d'chappement dclenchent\n",
      "Allergies en cascade, et taux record d'O3 dans les bronches,\n",
      "Douleurs dans les hanches, rien plus d'dangereux qu'la faune humaine\n",
      "Quand ils explosent un fourgon Brinks sans peine au Tri-Nitro-Tolune,\n",
      "Les vices connus gnent la machine de l'Etat, les cabinets changent\n",
      "Laissent la merde en tat, peu passent les menottes en mtal, on en est l\n",
      "Ici 300 blinds font c'qui veulent, font comme s'ils vivent seuls\n",
      "Ramnent tout leur p'tite gueule, quand mille meurent fauchs dans l'viseur\n",
      "Bienvenue, aprs le 11 septembre on voque une aut'voie\n",
      "Au silence : dis au revoir, l'enculeur d'aut'fois, dit baiser le monde haute voix\n",
      "O les vieux des pays riches fantasment sur les m'mes de Bangkok\n",
      "Pourquoi donc mettre part ces connards en taule\n",
      "Ici on croit moins en Dieu qu'aux fant'mes, un hymne sanguinaire\n",
      "On entonne, partout on sent la peur d'un peuple pass au pantone\n",
      "L'hiver mange l't, et l'printemps parfois tue l'automne,\n",
      "Crie Plus fort, les grands de c'monde, ont gar quelque part leur sonotone\n",
      "Bienvenue, mes p'tits anges\n",
      "Car voici c'monde\n",
      "Beyonc - Chorus:\n",
      "Welcome to a place\n",
      "Where people lie to your face\n",
      "Just to get it done.\n",
      "Welcome to the human race\n",
      "Where if you ain't got money, then you'll pay in pain\n",
      "Welcome to this world of ours\n",
      "And if you had the chance would you come back again ?\n",
      "Cause now you're here there ain't no turning back,\n",
      "You got tears in your eyes\n",
      "And the monkey on your back (?)*\n",
      "We all have a purpose in this world\n",
      "We have to believe that we belong\n",
      "Can't forget where we came from\n",
      "We came from love.\n",
      "Shurik'n - Verse 2:\n",
      "Bienvenue dans c'truc entre enfer et paradis tant't l'un tant't l'autre.\n",
      "Ange et dmon s'y disputent le parvis pour enjeu ceux qui s'y vautrent.\n",
      "O l'on s'occupe de l'horreur seulement quand elle frappe nos portes.\n",
      "O la rumeur tue sournoisement, vicieux coup de surin dans l'aorte.\n",
      "O tu bouffes de la merde chaque jour et on te le dit qu'20 ans aprs.\n",
      "Parce qu'en fait ils s'en tapent de c' qu'on pense on l'sait mais ils le diront jamais.\n",
      "O on est trop con pour voir qu'un mec est bon bien avant qu'il meure\n",
      "Puis on se vante de le connatre achetant ses tableaux visitant sa demeure\n",
      "Bienvenue dans c'monde o on se dit tous gaux blague part l\n",
      "L'caniveau l haut c'est les bureaux mais le mieux c'est au milieu\n",
      "O on se sait si fragile qu'on prvoit les pices d'rechange\n",
      "D'ici peu de temps on s'achtera des jambes en famille le dimanche\n",
      "O tout le monde ne mange pas sa faim lieu de conflit sans fin\n",
      "Crer dans le fond pour qu'un seul parvienne ses fins\n",
      "La misre comme moyen o le suppos mort esclavage svit encore en divers lieux\n",
      "Tu vois ! Il y a toujours des grains de poussire vaniteux qui s'prennent pour des dieux\n",
      "Bienvenue pas Gattaca mais presque o seul l'lu vite la presse\n",
      "On parque le reste en attendant que vieillesse se manifeste,\n",
      "O on parle prslection, d'amlioration, transformation\n",
      "Gntique, c'est pas magnifique une armada de super soldats de plomb\n",
      "O on s'tue pour un bifteck ou un bifton\n",
      "O on entend le mensonge aveugle, on voit pas l'illusion, envole la laine du mouton\n",
      "Je t'annonce le sombre, parce que le clair, j'prfrerais qu'tu le dcouvre,\n",
      "Allez petit ! Lance toi t'inquite fonce ! Moi, j'te couvre\n",
      "Beyonc - Chorus:\n",
      "Welcome to a place\n",
      "Where people lie to your face\n",
      "Just to get it done.\n",
      "Welcome to the human race\n",
      "Where if you ain't got money, then you'll pay in pain\n",
      "Welcome to this world of ours\n",
      "And if you had the chance would you come back again ?\n",
      "Cause now you're here there ain't no turning back,\n",
      "You got tears in your eyes\n",
      "And the monkey on your back (?)*\n",
      "Beyonc - Outro:\n",
      "Bienvenue dans ce monde, Welcome to this world\n",
      "Bienvenue dans ce monde, Welcome to this world\n",
      "Bienvenue dans ce monde, Welcome to this world\n",
      "Bienvenue dans ce monde, Welcome to this world\n"
     ]
    }
   ],
   "source": [
    "print(df.iloc[21].lyrics)"
   ]
  },
  {
   "cell_type": "markdown",
   "metadata": {},
   "source": [
    "###### The challange \n",
    "\n",
    "Do some feature engineering! Code up some custom transformers that can be plugged into an sklearn pipline and transform our data into model features!   I created a couple to get you started."
   ]
  },
  {
   "cell_type": "code",
   "execution_count": 224,
   "metadata": {
    "collapsed": true
   },
   "outputs": [],
   "source": [
    "import numpy as np\n",
    "from sklearn import base \n",
    "from sklearn import pipeline"
   ]
  },
  {
   "cell_type": "code",
   "execution_count": 238,
   "metadata": {
    "collapsed": true
   },
   "outputs": [],
   "source": [
    "df=df[~df.lyrics.isnull()]\n",
    "\n",
    "\n",
    "class YearVectorizer(base.BaseEstimator, base.TransformerMixin):\n",
    "    \"\"\"\n",
    "    An Example custom transformer!\n",
    "    YearVectorizer takes the 'year' column of a dataframe and\n",
    "    one-hot-encodes it. Can you make it better? \n",
    "    Impute missing values?\n",
    "    Encode decade instead of year?\n",
    "    \"\"\"\n",
    "    def __init__(self, colName):\n",
    "        self.colName = colName\n",
    "        self._tansformer = sklearn.preprocessing.LabelBinarizer()\n",
    "        \n",
    "    def fit(self, X, *_):\n",
    "        self._tansformer.fit(X[self.colName])\n",
    "        return self\n",
    "    \n",
    "    def transform(self, X, *_):\n",
    "        return self._tansformer.transform(X[self.colName])\n",
    "        \n",
    "    def fit_transform(self,X, *_):\n",
    "        self.fit(X)\n",
    "        return self.transform(X)\n",
    "        \n",
    "\n",
    "class WordCount(base.BaseEstimator,base.TransformerMixin):\n",
    "    \"\"\"\n",
    "    An Example custom transformer!\n",
    "    WordCount takes the 'lyrics' column returns the number of words\n",
    "    in the song.\n",
    "    Can you make it better?\n",
    "    Count the number of unique words instead?\n",
    "    \"\"\"\n",
    "    def __init__(self, colName):\n",
    "        self.colName = colName\n",
    "        \n",
    "    def fit(self, X, *_): return self\n",
    "    \n",
    "    def transform(self, X, *_):\n",
    "        return np.atleast_2d(X[self.colName].apply(lambda x: len(x.split(' ')))).T\n",
    "\n",
    "    def fit_transform(self,X, *_):\n",
    "        return self.transform(X)\n",
    "\n",
    "#How about one encoding average word size? Number of sylabols?"
   ]
  },
  {
   "cell_type": "markdown",
   "metadata": {},
   "source": [
    "###### Lets test out the word count custom transformer"
   ]
  },
  {
   "cell_type": "code",
   "execution_count": 226,
   "metadata": {},
   "outputs": [
    {
     "data": {
      "text/plain": [
       "array([[0, 0, 0, ..., 0, 0, 0],\n",
       "       [0, 0, 0, ..., 0, 0, 0],\n",
       "       [0, 0, 0, ..., 0, 0, 0],\n",
       "       ..., \n",
       "       [0, 0, 0, ..., 0, 0, 0],\n",
       "       [0, 0, 0, ..., 0, 0, 0],\n",
       "       [0, 0, 0, ..., 0, 0, 0]])"
      ]
     },
     "execution_count": 226,
     "metadata": {},
     "output_type": "execute_result"
    }
   ],
   "source": [
    "year_ft = YearVectorizer('year')\n",
    "\n",
    "year_ft.fit(df)\n",
    "year_ft.transform(df)"
   ]
  },
  {
   "cell_type": "markdown",
   "metadata": {},
   "source": [
    "###### Feature Union\n",
    "To use the features engineered by WordCount & YearVectorizer in the same pipeline we will need to use FeatureUnion"
   ]
  },
  {
   "cell_type": "code",
   "execution_count": 227,
   "metadata": {},
   "outputs": [
    {
     "data": {
      "text/plain": [
       "array([[  0,   0,   1, ...,   0,   0, 384],\n",
       "       [  0,   0,   1, ...,   0,   0, 220],\n",
       "       [  0,   0,   1, ...,   0,   0, 116],\n",
       "       ..., \n",
       "       [  0,   0,   0, ...,   0,   0, 341],\n",
       "       [  0,   0,   0, ...,   0,   0, 436],\n",
       "       [  0,   0,   0, ...,   0,   0, 407]])"
      ]
     },
     "execution_count": 227,
     "metadata": {},
     "output_type": "execute_result"
    }
   ],
   "source": [
    "featUnion = pipeline.FeatureUnion([ \n",
    "                             ('yv',YearVectorizer('year')),\n",
    "                             ('wc',WordCount('lyrics'))\n",
    "                    \n",
    "                          ])\n",
    "\n",
    "\n",
    "\n",
    "featUnion.fit_transform(df.iloc[0:200])"
   ]
  },
  {
   "cell_type": "markdown",
   "metadata": {},
   "source": [
    "##### Now its time for TFIDF!\n",
    "\n",
    "see: sklearn.feature_extraction.text.TfidfVectorizer\n",
    "\n",
    "\n",
    "Take a look at the paramters and create a couple of custom transformers by specifiying your own tokenizer and preprocessor. How would you add this to our featUnion pipeline? We will find the best one via grid search!"
   ]
  },
  {
   "cell_type": "code",
   "execution_count": 235,
   "metadata": {
    "collapsed": true
   },
   "outputs": [],
   "source": [
    "tfid=sklearn.feature_extraction.text.TfidfVectorizer(max_features=500)"
   ]
  },
  {
   "cell_type": "code",
   "execution_count": 237,
   "metadata": {},
   "outputs": [
    {
     "data": {
      "text/plain": [
       "<266557x500 sparse matrix of type '<class 'numpy.float64'>'\n",
       "\twith 14827763 stored elements in Compressed Sparse Row format>"
      ]
     },
     "execution_count": 237,
     "metadata": {},
     "output_type": "execute_result"
    }
   ],
   "source": [
    "tfid.fit_transform(df.lyrics)"
   ]
  },
  {
   "cell_type": "code",
   "execution_count": null,
   "metadata": {
    "collapsed": true
   },
   "outputs": [],
   "source": []
  }
 ],
 "metadata": {
  "kernelspec": {
   "display_name": "Python 3",
   "language": "python",
   "name": "python3"
  },
  "language_info": {
   "codemirror_mode": {
    "name": "ipython",
    "version": 3
   },
   "file_extension": ".py",
   "mimetype": "text/x-python",
   "name": "python",
   "nbconvert_exporter": "python",
   "pygments_lexer": "ipython3",
   "version": "3.5.2"
  }
 },
 "nbformat": 4,
 "nbformat_minor": 2
}
